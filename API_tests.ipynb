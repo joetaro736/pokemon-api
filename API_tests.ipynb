{
 "cells": [
  {
   "cell_type": "markdown",
   "id": "dbe49d9e",
   "metadata": {},
   "source": []
  },
  {
   "cell_type": "code",
   "execution_count": 2,
   "id": "a7a9330f",
   "metadata": {},
   "outputs": [],
   "source": [
    "import requests\n",
    "import pandas as pd"
   ]
  },
  {
   "cell_type": "markdown",
   "id": "59d658e2",
   "metadata": {},
   "source": [
    "API POKEMON\n",
    "\n",
    "- https://pokeapi.co/api/v2/pokemon/ditto"
   ]
  },
  {
   "cell_type": "code",
   "execution_count": 3,
   "id": "0d1f7f5f",
   "metadata": {},
   "outputs": [],
   "source": [
    "nome = input('Digite o nome do pokemon')"
   ]
  },
  {
   "cell_type": "code",
   "execution_count": 30,
   "id": "fb40da04",
   "metadata": {},
   "outputs": [],
   "source": [
    "res = requests.get('https://pokeapi.co/api/v2/pokemon/articuno')\n",
    "dados = res.json()"
   ]
  },
  {
   "cell_type": "code",
   "execution_count": 5,
   "id": "b7b54631",
   "metadata": {},
   "outputs": [
    {
     "name": "stdout",
     "output_type": "stream",
     "text": [
      "abilities | <class 'list'>\n",
      "base_experience | <class 'int'>\n",
      "cries | <class 'dict'>\n",
      "forms | <class 'list'>\n",
      "game_indices | <class 'list'>\n",
      "height | <class 'int'>\n",
      "held_items | <class 'list'>\n",
      "id | <class 'int'>\n",
      "is_default | <class 'bool'>\n",
      "location_area_encounters | <class 'str'>\n",
      "moves | <class 'list'>\n",
      "name | <class 'str'>\n",
      "order | <class 'int'>\n",
      "past_abilities | <class 'list'>\n",
      "past_types | <class 'list'>\n",
      "species | <class 'dict'>\n",
      "sprites | <class 'dict'>\n",
      "stats | <class 'list'>\n",
      "types | <class 'list'>\n",
      "weight | <class 'int'>\n"
     ]
    }
   ],
   "source": [
    "for k in dados.keys():\n",
    "    print(k, '|' ,type(dados[k]))"
   ]
  },
  {
   "cell_type": "markdown",
   "id": "9cfac9e2",
   "metadata": {},
   "source": [
    "# Abilities"
   ]
  },
  {
   "cell_type": "code",
   "execution_count": 6,
   "id": "e16b56ed",
   "metadata": {},
   "outputs": [
    {
     "name": "stdout",
     "output_type": "stream",
     "text": [
      "static\n",
      "lightning-rod\n"
     ]
    }
   ],
   "source": [
    "for i in dados['abilities']:\n",
    "    print(i['ability']['name'])"
   ]
  },
  {
   "cell_type": "markdown",
   "id": "635e54eb",
   "metadata": {},
   "source": [
    "# base_experience"
   ]
  },
  {
   "cell_type": "code",
   "execution_count": 7,
   "id": "ca033919",
   "metadata": {},
   "outputs": [
    {
     "data": {
      "text/plain": [
       "112"
      ]
     },
     "execution_count": 7,
     "metadata": {},
     "output_type": "execute_result"
    }
   ],
   "source": [
    "dados['base_experience']"
   ]
  },
  {
   "cell_type": "markdown",
   "id": "71cdc12c",
   "metadata": {},
   "source": [
    "# Cries"
   ]
  },
  {
   "cell_type": "code",
   "execution_count": 8,
   "id": "9f05f956",
   "metadata": {},
   "outputs": [
    {
     "name": "stdout",
     "output_type": "stream",
     "text": [
      "latest https://raw.githubusercontent.com/PokeAPI/cries/main/cries/pokemon/latest/25.ogg\n",
      "legacy https://raw.githubusercontent.com/PokeAPI/cries/main/cries/pokemon/legacy/25.ogg\n"
     ]
    }
   ],
   "source": [
    "for i in dados['cries'].keys():\n",
    "    print(i, dados['cries'][i])#type(dados['cries'][i]))"
   ]
  },
  {
   "cell_type": "code",
   "execution_count": null,
   "id": "195531ae",
   "metadata": {},
   "outputs": [],
   "source": []
  },
  {
   "cell_type": "markdown",
   "id": "70c94d70",
   "metadata": {},
   "source": [
    "# Forms"
   ]
  },
  {
   "cell_type": "code",
   "execution_count": 9,
   "id": "f8f08507",
   "metadata": {},
   "outputs": [
    {
     "name": "stdout",
     "output_type": "stream",
     "text": [
      "{'name': 'pikachu', 'url': 'https://pokeapi.co/api/v2/pokemon-form/25/'}\n"
     ]
    }
   ],
   "source": [
    "for i in dados['forms']:\n",
    "    print(i)"
   ]
  },
  {
   "cell_type": "code",
   "execution_count": 10,
   "id": "f93d8035",
   "metadata": {},
   "outputs": [
    {
     "name": "stdout",
     "output_type": "stream",
     "text": [
      "form_name <class 'str'>\n",
      "form_names <class 'list'>\n",
      "form_order <class 'int'>\n",
      "id <class 'int'>\n",
      "is_battle_only <class 'bool'>\n",
      "is_default <class 'bool'>\n",
      "is_mega <class 'bool'>\n",
      "name <class 'str'>\n",
      "names <class 'list'>\n",
      "order <class 'int'>\n",
      "pokemon <class 'dict'>\n",
      "sprites <class 'dict'>\n",
      "types <class 'list'>\n",
      "version_group <class 'dict'>\n"
     ]
    }
   ],
   "source": [
    "forms = requests.get('https://pokeapi.co/api/v2/pokemon-form/133/').json()\n",
    "for k in forms.keys():\n",
    "    print(k, type(forms[k]))"
   ]
  },
  {
   "cell_type": "code",
   "execution_count": 11,
   "id": "92fc8038",
   "metadata": {},
   "outputs": [
    {
     "data": {
      "text/plain": [
       "[]"
      ]
     },
     "execution_count": 11,
     "metadata": {},
     "output_type": "execute_result"
    }
   ],
   "source": [
    "forms['form_names']"
   ]
  },
  {
   "cell_type": "markdown",
   "id": "2da044a7",
   "metadata": {},
   "source": [
    "# Game Indices"
   ]
  },
  {
   "cell_type": "code",
   "execution_count": 12,
   "id": "76650e38",
   "metadata": {},
   "outputs": [
    {
     "name": "stdout",
     "output_type": "stream",
     "text": [
      "{'game_index': 84, 'version': {'name': 'red', 'url': 'https://pokeapi.co/api/v2/version/1/'}}\n",
      "{'game_index': 84, 'version': {'name': 'blue', 'url': 'https://pokeapi.co/api/v2/version/2/'}}\n",
      "{'game_index': 84, 'version': {'name': 'yellow', 'url': 'https://pokeapi.co/api/v2/version/3/'}}\n",
      "{'game_index': 25, 'version': {'name': 'gold', 'url': 'https://pokeapi.co/api/v2/version/4/'}}\n",
      "{'game_index': 25, 'version': {'name': 'silver', 'url': 'https://pokeapi.co/api/v2/version/5/'}}\n",
      "{'game_index': 25, 'version': {'name': 'crystal', 'url': 'https://pokeapi.co/api/v2/version/6/'}}\n",
      "{'game_index': 25, 'version': {'name': 'ruby', 'url': 'https://pokeapi.co/api/v2/version/7/'}}\n",
      "{'game_index': 25, 'version': {'name': 'sapphire', 'url': 'https://pokeapi.co/api/v2/version/8/'}}\n",
      "{'game_index': 25, 'version': {'name': 'emerald', 'url': 'https://pokeapi.co/api/v2/version/9/'}}\n",
      "{'game_index': 25, 'version': {'name': 'firered', 'url': 'https://pokeapi.co/api/v2/version/10/'}}\n",
      "{'game_index': 25, 'version': {'name': 'leafgreen', 'url': 'https://pokeapi.co/api/v2/version/11/'}}\n",
      "{'game_index': 25, 'version': {'name': 'diamond', 'url': 'https://pokeapi.co/api/v2/version/12/'}}\n",
      "{'game_index': 25, 'version': {'name': 'pearl', 'url': 'https://pokeapi.co/api/v2/version/13/'}}\n",
      "{'game_index': 25, 'version': {'name': 'platinum', 'url': 'https://pokeapi.co/api/v2/version/14/'}}\n",
      "{'game_index': 25, 'version': {'name': 'heartgold', 'url': 'https://pokeapi.co/api/v2/version/15/'}}\n",
      "{'game_index': 25, 'version': {'name': 'soulsilver', 'url': 'https://pokeapi.co/api/v2/version/16/'}}\n",
      "{'game_index': 25, 'version': {'name': 'black', 'url': 'https://pokeapi.co/api/v2/version/17/'}}\n",
      "{'game_index': 25, 'version': {'name': 'white', 'url': 'https://pokeapi.co/api/v2/version/18/'}}\n",
      "{'game_index': 25, 'version': {'name': 'black-2', 'url': 'https://pokeapi.co/api/v2/version/21/'}}\n",
      "{'game_index': 25, 'version': {'name': 'white-2', 'url': 'https://pokeapi.co/api/v2/version/22/'}}\n"
     ]
    }
   ],
   "source": [
    "for i in dados['game_indices']:\n",
    "    print(i)"
   ]
  },
  {
   "cell_type": "code",
   "execution_count": 13,
   "id": "d1ac67b3",
   "metadata": {},
   "outputs": [
    {
     "data": {
      "text/html": [
       "<div>\n",
       "<style scoped>\n",
       "    .dataframe tbody tr th:only-of-type {\n",
       "        vertical-align: middle;\n",
       "    }\n",
       "\n",
       "    .dataframe tbody tr th {\n",
       "        vertical-align: top;\n",
       "    }\n",
       "\n",
       "    .dataframe thead th {\n",
       "        text-align: right;\n",
       "    }\n",
       "</style>\n",
       "<table border=\"1\" class=\"dataframe\">\n",
       "  <thead>\n",
       "    <tr style=\"text-align: right;\">\n",
       "      <th></th>\n",
       "      <th>game_index</th>\n",
       "      <th>version</th>\n",
       "    </tr>\n",
       "  </thead>\n",
       "  <tbody>\n",
       "    <tr>\n",
       "      <th>0</th>\n",
       "      <td>84</td>\n",
       "      <td>{'name': 'red', 'url': 'https://pokeapi.co/api...</td>\n",
       "    </tr>\n",
       "    <tr>\n",
       "      <th>1</th>\n",
       "      <td>84</td>\n",
       "      <td>{'name': 'blue', 'url': 'https://pokeapi.co/ap...</td>\n",
       "    </tr>\n",
       "    <tr>\n",
       "      <th>2</th>\n",
       "      <td>84</td>\n",
       "      <td>{'name': 'yellow', 'url': 'https://pokeapi.co/...</td>\n",
       "    </tr>\n",
       "    <tr>\n",
       "      <th>3</th>\n",
       "      <td>25</td>\n",
       "      <td>{'name': 'gold', 'url': 'https://pokeapi.co/ap...</td>\n",
       "    </tr>\n",
       "    <tr>\n",
       "      <th>4</th>\n",
       "      <td>25</td>\n",
       "      <td>{'name': 'silver', 'url': 'https://pokeapi.co/...</td>\n",
       "    </tr>\n",
       "    <tr>\n",
       "      <th>5</th>\n",
       "      <td>25</td>\n",
       "      <td>{'name': 'crystal', 'url': 'https://pokeapi.co...</td>\n",
       "    </tr>\n",
       "    <tr>\n",
       "      <th>6</th>\n",
       "      <td>25</td>\n",
       "      <td>{'name': 'ruby', 'url': 'https://pokeapi.co/ap...</td>\n",
       "    </tr>\n",
       "    <tr>\n",
       "      <th>7</th>\n",
       "      <td>25</td>\n",
       "      <td>{'name': 'sapphire', 'url': 'https://pokeapi.c...</td>\n",
       "    </tr>\n",
       "    <tr>\n",
       "      <th>8</th>\n",
       "      <td>25</td>\n",
       "      <td>{'name': 'emerald', 'url': 'https://pokeapi.co...</td>\n",
       "    </tr>\n",
       "    <tr>\n",
       "      <th>9</th>\n",
       "      <td>25</td>\n",
       "      <td>{'name': 'firered', 'url': 'https://pokeapi.co...</td>\n",
       "    </tr>\n",
       "    <tr>\n",
       "      <th>10</th>\n",
       "      <td>25</td>\n",
       "      <td>{'name': 'leafgreen', 'url': 'https://pokeapi....</td>\n",
       "    </tr>\n",
       "    <tr>\n",
       "      <th>11</th>\n",
       "      <td>25</td>\n",
       "      <td>{'name': 'diamond', 'url': 'https://pokeapi.co...</td>\n",
       "    </tr>\n",
       "    <tr>\n",
       "      <th>12</th>\n",
       "      <td>25</td>\n",
       "      <td>{'name': 'pearl', 'url': 'https://pokeapi.co/a...</td>\n",
       "    </tr>\n",
       "    <tr>\n",
       "      <th>13</th>\n",
       "      <td>25</td>\n",
       "      <td>{'name': 'platinum', 'url': 'https://pokeapi.c...</td>\n",
       "    </tr>\n",
       "    <tr>\n",
       "      <th>14</th>\n",
       "      <td>25</td>\n",
       "      <td>{'name': 'heartgold', 'url': 'https://pokeapi....</td>\n",
       "    </tr>\n",
       "    <tr>\n",
       "      <th>15</th>\n",
       "      <td>25</td>\n",
       "      <td>{'name': 'soulsilver', 'url': 'https://pokeapi...</td>\n",
       "    </tr>\n",
       "    <tr>\n",
       "      <th>16</th>\n",
       "      <td>25</td>\n",
       "      <td>{'name': 'black', 'url': 'https://pokeapi.co/a...</td>\n",
       "    </tr>\n",
       "    <tr>\n",
       "      <th>17</th>\n",
       "      <td>25</td>\n",
       "      <td>{'name': 'white', 'url': 'https://pokeapi.co/a...</td>\n",
       "    </tr>\n",
       "    <tr>\n",
       "      <th>18</th>\n",
       "      <td>25</td>\n",
       "      <td>{'name': 'black-2', 'url': 'https://pokeapi.co...</td>\n",
       "    </tr>\n",
       "    <tr>\n",
       "      <th>19</th>\n",
       "      <td>25</td>\n",
       "      <td>{'name': 'white-2', 'url': 'https://pokeapi.co...</td>\n",
       "    </tr>\n",
       "  </tbody>\n",
       "</table>\n",
       "</div>"
      ],
      "text/plain": [
       "    game_index                                            version\n",
       "0           84  {'name': 'red', 'url': 'https://pokeapi.co/api...\n",
       "1           84  {'name': 'blue', 'url': 'https://pokeapi.co/ap...\n",
       "2           84  {'name': 'yellow', 'url': 'https://pokeapi.co/...\n",
       "3           25  {'name': 'gold', 'url': 'https://pokeapi.co/ap...\n",
       "4           25  {'name': 'silver', 'url': 'https://pokeapi.co/...\n",
       "5           25  {'name': 'crystal', 'url': 'https://pokeapi.co...\n",
       "6           25  {'name': 'ruby', 'url': 'https://pokeapi.co/ap...\n",
       "7           25  {'name': 'sapphire', 'url': 'https://pokeapi.c...\n",
       "8           25  {'name': 'emerald', 'url': 'https://pokeapi.co...\n",
       "9           25  {'name': 'firered', 'url': 'https://pokeapi.co...\n",
       "10          25  {'name': 'leafgreen', 'url': 'https://pokeapi....\n",
       "11          25  {'name': 'diamond', 'url': 'https://pokeapi.co...\n",
       "12          25  {'name': 'pearl', 'url': 'https://pokeapi.co/a...\n",
       "13          25  {'name': 'platinum', 'url': 'https://pokeapi.c...\n",
       "14          25  {'name': 'heartgold', 'url': 'https://pokeapi....\n",
       "15          25  {'name': 'soulsilver', 'url': 'https://pokeapi...\n",
       "16          25  {'name': 'black', 'url': 'https://pokeapi.co/a...\n",
       "17          25  {'name': 'white', 'url': 'https://pokeapi.co/a...\n",
       "18          25  {'name': 'black-2', 'url': 'https://pokeapi.co...\n",
       "19          25  {'name': 'white-2', 'url': 'https://pokeapi.co..."
      ]
     },
     "execution_count": 13,
     "metadata": {},
     "output_type": "execute_result"
    }
   ],
   "source": [
    "pd.DataFrame(dados['game_indices'])"
   ]
  },
  {
   "cell_type": "code",
   "execution_count": null,
   "id": "c048080c",
   "metadata": {},
   "outputs": [],
   "source": []
  },
  {
   "cell_type": "markdown",
   "id": "3fd0bf21",
   "metadata": {},
   "source": [
    "# Held Items"
   ]
  },
  {
   "cell_type": "code",
   "execution_count": 14,
   "id": "d95ed76a",
   "metadata": {},
   "outputs": [
    {
     "name": "stdout",
     "output_type": "stream",
     "text": [
      "{'item': {'name': 'oran-berry', 'url': 'https://pokeapi.co/api/v2/item/132/'}, 'version_details': [{'rarity': 50, 'version': {'name': 'ruby', 'url': 'https://pokeapi.co/api/v2/version/7/'}}, {'rarity': 50, 'version': {'name': 'sapphire', 'url': 'https://pokeapi.co/api/v2/version/8/'}}, {'rarity': 50, 'version': {'name': 'emerald', 'url': 'https://pokeapi.co/api/v2/version/9/'}}, {'rarity': 50, 'version': {'name': 'diamond', 'url': 'https://pokeapi.co/api/v2/version/12/'}}, {'rarity': 50, 'version': {'name': 'pearl', 'url': 'https://pokeapi.co/api/v2/version/13/'}}, {'rarity': 50, 'version': {'name': 'platinum', 'url': 'https://pokeapi.co/api/v2/version/14/'}}, {'rarity': 50, 'version': {'name': 'heartgold', 'url': 'https://pokeapi.co/api/v2/version/15/'}}, {'rarity': 50, 'version': {'name': 'soulsilver', 'url': 'https://pokeapi.co/api/v2/version/16/'}}, {'rarity': 50, 'version': {'name': 'black', 'url': 'https://pokeapi.co/api/v2/version/17/'}}, {'rarity': 50, 'version': {'name': 'white', 'url': 'https://pokeapi.co/api/v2/version/18/'}}]}\n",
      "{'item': {'name': 'light-ball', 'url': 'https://pokeapi.co/api/v2/item/213/'}, 'version_details': [{'rarity': 5, 'version': {'name': 'ruby', 'url': 'https://pokeapi.co/api/v2/version/7/'}}, {'rarity': 5, 'version': {'name': 'sapphire', 'url': 'https://pokeapi.co/api/v2/version/8/'}}, {'rarity': 5, 'version': {'name': 'emerald', 'url': 'https://pokeapi.co/api/v2/version/9/'}}, {'rarity': 5, 'version': {'name': 'diamond', 'url': 'https://pokeapi.co/api/v2/version/12/'}}, {'rarity': 5, 'version': {'name': 'pearl', 'url': 'https://pokeapi.co/api/v2/version/13/'}}, {'rarity': 5, 'version': {'name': 'platinum', 'url': 'https://pokeapi.co/api/v2/version/14/'}}, {'rarity': 5, 'version': {'name': 'heartgold', 'url': 'https://pokeapi.co/api/v2/version/15/'}}, {'rarity': 5, 'version': {'name': 'soulsilver', 'url': 'https://pokeapi.co/api/v2/version/16/'}}, {'rarity': 1, 'version': {'name': 'black', 'url': 'https://pokeapi.co/api/v2/version/17/'}}, {'rarity': 1, 'version': {'name': 'white', 'url': 'https://pokeapi.co/api/v2/version/18/'}}, {'rarity': 5, 'version': {'name': 'black-2', 'url': 'https://pokeapi.co/api/v2/version/21/'}}, {'rarity': 5, 'version': {'name': 'white-2', 'url': 'https://pokeapi.co/api/v2/version/22/'}}, {'rarity': 5, 'version': {'name': 'x', 'url': 'https://pokeapi.co/api/v2/version/23/'}}, {'rarity': 5, 'version': {'name': 'y', 'url': 'https://pokeapi.co/api/v2/version/24/'}}, {'rarity': 5, 'version': {'name': 'omega-ruby', 'url': 'https://pokeapi.co/api/v2/version/25/'}}, {'rarity': 5, 'version': {'name': 'alpha-sapphire', 'url': 'https://pokeapi.co/api/v2/version/26/'}}, {'rarity': 5, 'version': {'name': 'sun', 'url': 'https://pokeapi.co/api/v2/version/27/'}}, {'rarity': 5, 'version': {'name': 'moon', 'url': 'https://pokeapi.co/api/v2/version/28/'}}, {'rarity': 5, 'version': {'name': 'ultra-sun', 'url': 'https://pokeapi.co/api/v2/version/29/'}}, {'rarity': 5, 'version': {'name': 'ultra-moon', 'url': 'https://pokeapi.co/api/v2/version/30/'}}]}\n"
     ]
    }
   ],
   "source": [
    "for i in dados['held_items']:\n",
    "    print(i)"
   ]
  },
  {
   "cell_type": "code",
   "execution_count": 15,
   "id": "17c02641",
   "metadata": {},
   "outputs": [
    {
     "data": {
      "text/plain": [
       "[{'item': {'name': 'oran-berry', 'url': 'https://pokeapi.co/api/v2/item/132/'},\n",
       "  'version_details': [{'rarity': 50,\n",
       "    'version': {'name': 'ruby',\n",
       "     'url': 'https://pokeapi.co/api/v2/version/7/'}},\n",
       "   {'rarity': 50,\n",
       "    'version': {'name': 'sapphire',\n",
       "     'url': 'https://pokeapi.co/api/v2/version/8/'}},\n",
       "   {'rarity': 50,\n",
       "    'version': {'name': 'emerald',\n",
       "     'url': 'https://pokeapi.co/api/v2/version/9/'}},\n",
       "   {'rarity': 50,\n",
       "    'version': {'name': 'diamond',\n",
       "     'url': 'https://pokeapi.co/api/v2/version/12/'}},\n",
       "   {'rarity': 50,\n",
       "    'version': {'name': 'pearl',\n",
       "     'url': 'https://pokeapi.co/api/v2/version/13/'}},\n",
       "   {'rarity': 50,\n",
       "    'version': {'name': 'platinum',\n",
       "     'url': 'https://pokeapi.co/api/v2/version/14/'}},\n",
       "   {'rarity': 50,\n",
       "    'version': {'name': 'heartgold',\n",
       "     'url': 'https://pokeapi.co/api/v2/version/15/'}},\n",
       "   {'rarity': 50,\n",
       "    'version': {'name': 'soulsilver',\n",
       "     'url': 'https://pokeapi.co/api/v2/version/16/'}},\n",
       "   {'rarity': 50,\n",
       "    'version': {'name': 'black',\n",
       "     'url': 'https://pokeapi.co/api/v2/version/17/'}},\n",
       "   {'rarity': 50,\n",
       "    'version': {'name': 'white',\n",
       "     'url': 'https://pokeapi.co/api/v2/version/18/'}}]},\n",
       " {'item': {'name': 'light-ball', 'url': 'https://pokeapi.co/api/v2/item/213/'},\n",
       "  'version_details': [{'rarity': 5,\n",
       "    'version': {'name': 'ruby',\n",
       "     'url': 'https://pokeapi.co/api/v2/version/7/'}},\n",
       "   {'rarity': 5,\n",
       "    'version': {'name': 'sapphire',\n",
       "     'url': 'https://pokeapi.co/api/v2/version/8/'}},\n",
       "   {'rarity': 5,\n",
       "    'version': {'name': 'emerald',\n",
       "     'url': 'https://pokeapi.co/api/v2/version/9/'}},\n",
       "   {'rarity': 5,\n",
       "    'version': {'name': 'diamond',\n",
       "     'url': 'https://pokeapi.co/api/v2/version/12/'}},\n",
       "   {'rarity': 5,\n",
       "    'version': {'name': 'pearl',\n",
       "     'url': 'https://pokeapi.co/api/v2/version/13/'}},\n",
       "   {'rarity': 5,\n",
       "    'version': {'name': 'platinum',\n",
       "     'url': 'https://pokeapi.co/api/v2/version/14/'}},\n",
       "   {'rarity': 5,\n",
       "    'version': {'name': 'heartgold',\n",
       "     'url': 'https://pokeapi.co/api/v2/version/15/'}},\n",
       "   {'rarity': 5,\n",
       "    'version': {'name': 'soulsilver',\n",
       "     'url': 'https://pokeapi.co/api/v2/version/16/'}},\n",
       "   {'rarity': 1,\n",
       "    'version': {'name': 'black',\n",
       "     'url': 'https://pokeapi.co/api/v2/version/17/'}},\n",
       "   {'rarity': 1,\n",
       "    'version': {'name': 'white',\n",
       "     'url': 'https://pokeapi.co/api/v2/version/18/'}},\n",
       "   {'rarity': 5,\n",
       "    'version': {'name': 'black-2',\n",
       "     'url': 'https://pokeapi.co/api/v2/version/21/'}},\n",
       "   {'rarity': 5,\n",
       "    'version': {'name': 'white-2',\n",
       "     'url': 'https://pokeapi.co/api/v2/version/22/'}},\n",
       "   {'rarity': 5,\n",
       "    'version': {'name': 'x', 'url': 'https://pokeapi.co/api/v2/version/23/'}},\n",
       "   {'rarity': 5,\n",
       "    'version': {'name': 'y', 'url': 'https://pokeapi.co/api/v2/version/24/'}},\n",
       "   {'rarity': 5,\n",
       "    'version': {'name': 'omega-ruby',\n",
       "     'url': 'https://pokeapi.co/api/v2/version/25/'}},\n",
       "   {'rarity': 5,\n",
       "    'version': {'name': 'alpha-sapphire',\n",
       "     'url': 'https://pokeapi.co/api/v2/version/26/'}},\n",
       "   {'rarity': 5,\n",
       "    'version': {'name': 'sun',\n",
       "     'url': 'https://pokeapi.co/api/v2/version/27/'}},\n",
       "   {'rarity': 5,\n",
       "    'version': {'name': 'moon',\n",
       "     'url': 'https://pokeapi.co/api/v2/version/28/'}},\n",
       "   {'rarity': 5,\n",
       "    'version': {'name': 'ultra-sun',\n",
       "     'url': 'https://pokeapi.co/api/v2/version/29/'}},\n",
       "   {'rarity': 5,\n",
       "    'version': {'name': 'ultra-moon',\n",
       "     'url': 'https://pokeapi.co/api/v2/version/30/'}}]}]"
      ]
     },
     "execution_count": 15,
     "metadata": {},
     "output_type": "execute_result"
    }
   ],
   "source": [
    "dados['held_items']"
   ]
  },
  {
   "cell_type": "markdown",
   "id": "d2d66ddc",
   "metadata": {},
   "source": [
    "# Is Default"
   ]
  },
  {
   "cell_type": "code",
   "execution_count": 16,
   "id": "ffe0fba5",
   "metadata": {},
   "outputs": [
    {
     "data": {
      "text/plain": [
       "True"
      ]
     },
     "execution_count": 16,
     "metadata": {},
     "output_type": "execute_result"
    }
   ],
   "source": [
    "dados['is_default']"
   ]
  },
  {
   "cell_type": "markdown",
   "id": "62c68e97",
   "metadata": {},
   "source": []
  },
  {
   "cell_type": "markdown",
   "id": "bac3a556",
   "metadata": {},
   "source": [
    "# location area encounters"
   ]
  },
  {
   "cell_type": "code",
   "execution_count": 17,
   "id": "5cee5090",
   "metadata": {},
   "outputs": [
    {
     "name": "stdout",
     "output_type": "stream",
     "text": [
      "trophy-garden-area\n",
      "pallet-town-area\n",
      "kanto-route-2-south-towards-viridian-city\n",
      "viridian-forest-area\n",
      "power-plant-area\n",
      "hoenn-safari-zone-sw\n",
      "hoenn-safari-zone-se\n",
      "kalos-route-3-area\n",
      "santalune-forest-area\n",
      "slateport-city-contest-hall\n",
      "verdanturf-town-contest-hall\n",
      "fallarbor-town-contest-hall\n",
      "lilycove-city-contest-hall\n",
      "alola-route-1-east\n",
      "alola-route-1-west\n",
      "hauoli-city-shopping-district\n",
      "heahea-city-surf-association\n"
     ]
    }
   ],
   "source": [
    "locations = requests.get(dados['location_area_encounters']).json()\n",
    "for i in locations:\n",
    "    print(i['location_area']['name'])"
   ]
  },
  {
   "cell_type": "markdown",
   "id": "e8f2bc6c",
   "metadata": {},
   "source": [
    "# Moves"
   ]
  },
  {
   "cell_type": "code",
   "execution_count": 18,
   "id": "28400aa5",
   "metadata": {},
   "outputs": [
    {
     "name": "stdout",
     "output_type": "stream",
     "text": [
      "mega-punch\n",
      "pay-day\n",
      "thunder-punch\n",
      "slam\n",
      "double-kick\n",
      "mega-kick\n",
      "headbutt\n",
      "body-slam\n",
      "take-down\n",
      "double-edge\n",
      "tail-whip\n",
      "growl\n",
      "surf\n",
      "submission\n",
      "counter\n",
      "seismic-toss\n",
      "strength\n",
      "thunder-shock\n",
      "thunderbolt\n",
      "thunder-wave\n",
      "thunder\n",
      "dig\n",
      "toxic\n",
      "agility\n",
      "quick-attack\n",
      "rage\n",
      "mimic\n",
      "double-team\n",
      "defense-curl\n",
      "light-screen\n",
      "reflect\n",
      "bide\n",
      "swift\n",
      "skull-bash\n",
      "flash\n",
      "rest\n",
      "substitute\n",
      "thief\n",
      "snore\n",
      "curse\n",
      "reversal\n",
      "protect\n",
      "sweet-kiss\n",
      "mud-slap\n",
      "zap-cannon\n",
      "detect\n",
      "endure\n",
      "charm\n",
      "rollout\n",
      "swagger\n",
      "spark\n",
      "attract\n",
      "sleep-talk\n",
      "return\n",
      "frustration\n",
      "dynamic-punch\n",
      "encore\n",
      "iron-tail\n",
      "hidden-power\n",
      "rain-dance\n",
      "rock-smash\n",
      "uproar\n",
      "facade\n",
      "focus-punch\n",
      "charge\n",
      "helping-hand\n",
      "brick-break\n",
      "knock-off\n",
      "endeavor\n",
      "secret-power\n",
      "fake-tears\n",
      "signal-beam\n",
      "covet\n",
      "volt-tackle\n",
      "calm-mind\n",
      "shock-wave\n",
      "natural-gift\n",
      "feint\n",
      "fling\n",
      "magnet-rise\n",
      "nasty-plot\n",
      "discharge\n",
      "captivate\n",
      "grass-knot\n",
      "charge-beam\n",
      "electro-ball\n",
      "round\n",
      "echoed-voice\n",
      "volt-switch\n",
      "electroweb\n",
      "wild-charge\n",
      "disarming-voice\n",
      "draining-kiss\n",
      "play-rough\n",
      "play-nice\n",
      "confide\n",
      "eerie-impulse\n",
      "electric-terrain\n",
      "nuzzle\n",
      "laser-focus\n",
      "rising-voltage\n",
      "tera-blast\n",
      "trailblaze\n",
      "alluring-voice\n",
      "upper-hand\n"
     ]
    }
   ],
   "source": [
    "for i in dados['moves']:\n",
    "    print(i['move']['name'])"
   ]
  },
  {
   "cell_type": "markdown",
   "id": "568bb2b8",
   "metadata": {},
   "source": [
    "# next"
   ]
  },
  {
   "cell_type": "code",
   "execution_count": 21,
   "id": "4c68189d",
   "metadata": {},
   "outputs": [
    {
     "name": "stdout",
     "output_type": "stream",
     "text": [
      "back_default\n",
      "back_female\n",
      "back_shiny\n",
      "back_shiny_female\n",
      "front_default\n",
      "front_female\n",
      "front_shiny\n",
      "front_shiny_female\n",
      "other\n",
      "versions\n"
     ]
    }
   ],
   "source": [
    "for k in dados['sprites'].keys():\n",
    "    print(k)"
   ]
  },
  {
   "cell_type": "code",
   "execution_count": 23,
   "id": "3e24a50a",
   "metadata": {},
   "outputs": [
    {
     "data": {
      "text/plain": [
       "'bulbasaur'"
      ]
     },
     "execution_count": 23,
     "metadata": {},
     "output_type": "execute_result"
    }
   ],
   "source": [
    "i =1\n",
    "pokemon = requests.get(f'https://pokeapi.co/api/v2/pokemon/{i}').json()\n",
    "pokemon['name']"
   ]
  },
  {
   "cell_type": "code",
   "execution_count": 24,
   "id": "ccd9ebc1",
   "metadata": {},
   "outputs": [
    {
     "data": {
      "text/plain": [
       "[{'base_stat': 35,\n",
       "  'effort': 0,\n",
       "  'stat': {'name': 'hp', 'url': 'https://pokeapi.co/api/v2/stat/1/'}},\n",
       " {'base_stat': 55,\n",
       "  'effort': 0,\n",
       "  'stat': {'name': 'attack', 'url': 'https://pokeapi.co/api/v2/stat/2/'}},\n",
       " {'base_stat': 40,\n",
       "  'effort': 0,\n",
       "  'stat': {'name': 'defense', 'url': 'https://pokeapi.co/api/v2/stat/3/'}},\n",
       " {'base_stat': 50,\n",
       "  'effort': 0,\n",
       "  'stat': {'name': 'special-attack',\n",
       "   'url': 'https://pokeapi.co/api/v2/stat/4/'}},\n",
       " {'base_stat': 50,\n",
       "  'effort': 0,\n",
       "  'stat': {'name': 'special-defense',\n",
       "   'url': 'https://pokeapi.co/api/v2/stat/5/'}},\n",
       " {'base_stat': 90,\n",
       "  'effort': 2,\n",
       "  'stat': {'name': 'speed', 'url': 'https://pokeapi.co/api/v2/stat/6/'}}]"
      ]
     },
     "execution_count": 24,
     "metadata": {},
     "output_type": "execute_result"
    }
   ],
   "source": [
    "dados['stats']"
   ]
  },
  {
   "cell_type": "code",
   "execution_count": null,
   "id": "7a22373f",
   "metadata": {},
   "outputs": [],
   "source": [
    "dados[]"
   ]
  },
  {
   "cell_type": "code",
   "execution_count": null,
   "id": "f103528f",
   "metadata": {},
   "outputs": [],
   "source": [
    "# for i in range(1000):\n",
    "#     try:\n",
    "#         pokemon = requests.get(f'https://pokeapi.co/api/v2/pokemon/{i}').json()\n",
    "    \n",
    "#         name = pokemon['name']\n",
    "#         st.write(name)\n",
    "#         st.image(f'https://raw.githubusercontent.com/PokeAPI/sprites/master/sprites/pokemon/other/showdown/{i}.gif')\n",
    "#     except:\n",
    "#         st.warning('Pokemon não encontrado')"
   ]
  },
  {
   "cell_type": "code",
   "execution_count": null,
   "id": "92e2f4bb",
   "metadata": {},
   "outputs": [
    {
     "name": "stdout",
     "output_type": "stream",
     "text": [
      "{'name': 'ice', 'url': 'https://pokeapi.co/api/v2/type/15/'}\n",
      "{'name': 'flying', 'url': 'https://pokeapi.co/api/v2/type/3/'}\n"
     ]
    }
   ],
   "source": [
    "for i in dados['types']:\n",
    "    print(i['type']['name'])"
   ]
  },
  {
   "cell_type": "code",
   "execution_count": null,
   "id": "20b8d85b",
   "metadata": {},
   "outputs": [],
   "source": []
  }
 ],
 "metadata": {
  "kernelspec": {
   "display_name": "env",
   "language": "python",
   "name": "python3"
  },
  "language_info": {
   "codemirror_mode": {
    "name": "ipython",
    "version": 3
   },
   "file_extension": ".py",
   "mimetype": "text/x-python",
   "name": "python",
   "nbconvert_exporter": "python",
   "pygments_lexer": "ipython3",
   "version": "3.12.11"
  }
 },
 "nbformat": 4,
 "nbformat_minor": 5
}
